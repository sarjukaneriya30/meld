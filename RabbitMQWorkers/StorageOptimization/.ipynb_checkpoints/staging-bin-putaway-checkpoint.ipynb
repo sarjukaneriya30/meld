{
 "cells": [
  {
   "cell_type": "code",
   "execution_count": 4,
   "id": "38bde179",
   "metadata": {},
   "outputs": [],
   "source": [
    "from datetime import datetime, timedelta\n",
    "import json\n",
    "import numpy as np\n",
    "import os\n",
    "from pprint import pprint\n",
    "import pandas as pd\n",
    "import pulp\n",
    "import random\n",
    "import sqlite3\n",
    "from storage.containers import Bin, Tote, BulkContainer\n",
    "from storage.item import Item\n",
    "from storage.graphCreator8_Libs import *  # custom classes\n",
    "from storage.SB_App import *  # custom classes\n",
    "from storage.warehouse_input_parser import WarehouseInputParser\n",
    "import time\n",
    "import pyodbc\n",
    "# import pika"
   ]
  },
  {
   "cell_type": "code",
   "execution_count": 5,
   "id": "b47d83a1",
   "metadata": {},
   "outputs": [],
   "source": [
    "picklefile = open('BAY2Obj6', 'rb')\n",
    "BAY2Obj_loaded = pickle.load(picklefile)\n",
    "picklefile.close()"
   ]
  },
  {
   "cell_type": "code",
   "execution_count": 14,
   "id": "c70f00d5",
   "metadata": {},
   "outputs": [],
   "source": [
    "locid = 'I211051CA'"
   ]
  },
  {
   "cell_type": "code",
   "execution_count": 15,
   "id": "2a21e5f6",
   "metadata": {},
   "outputs": [],
   "source": [
    "StagingBinLocs = {'1A':'(79, 10)','2A':'(80, 10)','3A':'(79, 34)','4A':'(80, 34)'} # new from JG 11/3\n",
    "# StagingBinLocs = {'1A':'(80, 10)','2A':'(62, 10)','3A':'(78, 17)','4A':'(63, 17)','5A':'(80, 34)','6A':'(62, 34)'}\n",
    "AppObj = SB_App(AppID='App One',BAY=BAY2Obj_loaded,StagingBinsLocs=StagingBinLocs)\n",
    "StagingBins = AppObj.Dist_StagingBins3(StagingBinLocs=StagingBinLocs)\n",
    "\n",
    "\n",
    "def loc_id_to_tuple_without_shelf(locid):\n",
    "    l = locid\n",
    "    return f'({int(l[5:7])}, {int(l[3:5])})'\n",
    "\n",
    "\n",
    "def get_key_for_smallest_val(dictionary):\n",
    "    d = dictionary\n",
    "    smallest = min(d.values())\n",
    "    try:\n",
    "        return [ k for k,v in d.items() if v == smallest ][0]\n",
    "    except:\n",
    "         return [ k for k,v in d.items() if np.isclose( v ,smallest) ][0]\n"
   ]
  },
  {
   "cell_type": "code",
   "execution_count": 18,
   "id": "7cae74ab",
   "metadata": {},
   "outputs": [
    {
     "name": "stdout",
     "output_type": "stream",
     "text": [
      "I211079AA\n"
     ]
    }
   ],
   "source": [
    "\n",
    "\n",
    "location_tup = loc_id_to_tuple_without_shelf(locid)\n",
    "distances_to_staging_bins = StagingBins[location_tup][0]\n",
    "\n",
    "staging_bin_name = get_key_for_smallest_val(distances_to_staging_bins)\n",
    "staging_bin_loc = StagingBinLocs[staging_bin_name]\n",
    "\n",
    "col = staging_bin_loc[1:3]\n",
    "aisle = staging_bin_loc[-3:-1]\n",
    "#return staging_bin_name, staging_bin_loc, 'I21'+col+aisle+'AA'\n",
    "print('I21'+aisle+col+'AA')"
   ]
  },
  {
   "cell_type": "code",
   "execution_count": null,
   "id": "43967f54",
   "metadata": {},
   "outputs": [],
   "source": []
  }
 ],
 "metadata": {
  "kernelspec": {
   "display_name": "Python 3 (ipykernel)",
   "language": "python",
   "name": "python3"
  },
  "language_info": {
   "codemirror_mode": {
    "name": "ipython",
    "version": 3
   },
   "file_extension": ".py",
   "mimetype": "text/x-python",
   "name": "python",
   "nbconvert_exporter": "python",
   "pygments_lexer": "ipython3",
   "version": "3.9.12"
  }
 },
 "nbformat": 4,
 "nbformat_minor": 5
}
